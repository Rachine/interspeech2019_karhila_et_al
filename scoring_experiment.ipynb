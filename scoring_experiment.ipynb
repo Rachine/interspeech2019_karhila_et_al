{
 "cells": [
  {
   "cell_type": "markdown",
   "metadata": {},
   "source": [
    "# Scoring experiments #\n",
    "\n",
    "### Start with imports: ###"
   ]
  },
  {
   "cell_type": "code",
   "execution_count": 101,
   "metadata": {},
   "outputs": [],
   "source": [
    "import numpy as np\n",
    "import pickle\n",
    "import matplotlib.pyplot as plt\n",
    "\n",
    "from urllib.request import urlopen\n",
    "\n",
    "from ipywidgets import IntProgress\n",
    "from IPython.display import display\n",
    "import time\n",
    "\n",
    "from scipy.optimize import minimize\n",
    "from sklearn.svm import SVR\n",
    "from sklearn.ensemble import RandomForestRegressor\n",
    "\n",
    "from pprint import pprint"
   ]
  },
  {
   "cell_type": "markdown",
   "metadata": {},
   "source": [
    "   ### Load data: ###"
   ]
  },
  {
   "cell_type": "code",
   "execution_count": 102,
   "metadata": {},
   "outputs": [],
   "source": [
    "dataurl  = \"https://github.com/aalto-speech/interspeech2019_karhila_et_al/blob/master/phone_recognition_results_v0.21.pickle?raw=true\"\n",
    "[phones, phones_to_features, hypotheses, references, scores, speakers, words, train_speakers, test_speakers] = pickle.load(urlopen(dataurl))"
   ]
  },
  {
   "cell_type": "markdown",
   "metadata": {},
   "source": [
    "### Define weighted Levenshtein distance ###\n",
    "\n",
    "This is modified by Reima Karhila from https://github.com/infoscout/weighted-levenshtein to produce a list of edit operations. "
   ]
  },
  {
   "cell_type": "code",
   "execution_count": 103,
   "metadata": {},
   "outputs": [],
   "source": [
    "def levenshtein_edit_ops(arr1, arr2, insert_costs=None,delete_costs=None,substitute_costs=None):\n",
    "    \"\"\"\n",
    "    Calculates the Levenshtein distance between str1 and str2,\n",
    "    provided the costs of inserting, deleting, and substituting characters.\n",
    "    The costs default to 1 if not provided.\n",
    "\n",
    "    \"\"\"\n",
    "\n",
    "    # Some special cases we wouldn't like to see:\n",
    "    if len(arr1) == 0 and len(arr2) == 0:\n",
    "        print(\"arr1 and arr2 zero length, returning cost and ops:\", 0, [])\n",
    "        return 0, []\n",
    "\n",
    "    elif len(arr2) == 0:\n",
    "        path = [ ['d', i, i ] for i in arr2 ]\n",
    "        if delete_costs is not None:\n",
    "            ret_val = sum( [ delete_costs[i] for i in arr1 ] )\n",
    "        else:\n",
    "            ret_val = len(arr1)\n",
    "        print(\"arr2 zero length, returning cost and ops:\", ret_val, path)\n",
    "        return ret_val, path\n",
    "\n",
    "    elif len(arr1) == 0:\n",
    "        path = [ ['i', i, i ] for i in arr1 ]\n",
    "        if insert_costs is not None:\n",
    "            ret_val = sum( [ insertion_costs[i] for i in arr2 ] )\n",
    "        else:\n",
    "            ret_val = len(arr2)\n",
    "        print(\"arr1 zero length, returning cost and ops:\", ret_val, path)\n",
    "        return ret_val, path\n",
    "\n",
    "    maxchar = max( max(arr1), max(arr2) )\n",
    "    \n",
    "    if insert_costs is None:\n",
    "        insert_costs = np.ones([ maxchar+1 ])\n",
    "    if delete_costs is None:\n",
    "        delete_costs = np.ones([ maxchar+1 ])\n",
    "    if substitute_costs is None:\n",
    "        #print(\"Using default substitute costs\")\n",
    "        substitute_costs = np.ones([ maxchar+1,maxchar+1 ])\n",
    "\n",
    "\n",
    "    s1 = [-1] + arr1\n",
    "    s2 = [-1] + arr2\n",
    "\n",
    "    len1 = len(s1)\n",
    "    len2 = len(s2)\n",
    "    \n",
    "    op_ident = 0.0\n",
    "    op_ins = 1.0\n",
    "    op_del = 2.0\n",
    "    op_sub = 3.0\n",
    "\n",
    "    d = np.zeros([len1, len2], dtype=np.float32)\n",
    "    editops = np.zeros([len1,len2, 3], dtype=np.int)\n",
    "\n",
    "    d[0,0] = 0\n",
    "    char_i = s1[0]\n",
    "    char_j = s2[0]\n",
    "        \n",
    "    for i in range(1, len1 ):\n",
    "        char_i = s1[i]\n",
    "        d[i,0] = d[i-1,0] + delete_costs[char_i]\n",
    "        editops[i,0] = [op_del, char_i, -1]\n",
    "        \n",
    "    for j in range(1, len2):\n",
    "        char_j = s2[j]\n",
    "        #print( d[0,j-1], insert_costs[char_j])\n",
    "        d[0,j] = d[0,j-1] + insert_costs[char_j]\n",
    "        editops[0,j] = [op_ins, char_j, -1]\n",
    "        \n",
    "    for i in range(1, len1 ):\n",
    "        char_i = s1[i]\n",
    "        for j in range(1, len2):\n",
    "            char_j = s2[j]\n",
    "            #print(char_i,char_j)\n",
    "            if char_i == char_j:  # match\n",
    "                d[i,j] = d[i-1,j-1]\n",
    "                editops[i,j,:] = [op_ident, char_i, char_j]\n",
    "            else:\n",
    "                delcost = d[i-1,j] + delete_costs[char_i]\n",
    "                inscost = d[i,j-1] + insert_costs[char_j]\n",
    "                subcost = d[i-1,j-1] + substitute_costs[char_i, char_j]\n",
    "                \n",
    "                if delcost < inscost and delcost < subcost:\n",
    "                    d[i,j] = delcost\n",
    "                    editops[i,j,:] = [op_del, char_i, -1]\n",
    "                elif inscost < delcost and inscost < subcost:\n",
    "                    d[i,j] = inscost\n",
    "                    editops[i,j,:] = [op_ins, char_j, -1]\n",
    "                else:\n",
    "                    d[i,j] = subcost\n",
    "                    editops[i,j,:] = [op_sub, char_i, char_j]\n",
    "\n",
    "    ret_val = d[len1-1,len2-1]\n",
    "\n",
    "    i = len1-1\n",
    "    j = len2-1\n",
    "    path = []\n",
    "    while i > 0 or j > 0:        \n",
    "        op = editops[i,j,:]\n",
    "        if op[0] == op_sub:\n",
    "            path.append( ['s', op[1], op[2] ] )\n",
    "            i = i-1\n",
    "            j = j-1\n",
    "        elif op[0] == op_ins:\n",
    "            path.append( ['i', op[1], op[2] ] )\n",
    "            j = j-1\n",
    "        elif op[0] == op_del:\n",
    "            path.append( ['d', op[1], op[2] ] )\n",
    "            i = i-1\n",
    "        elif op[0] == op_ident:\n",
    "            i = i-1\n",
    "            j = j-1\n",
    "        \n",
    "    return ret_val, path"
   ]
  },
  {
   "cell_type": "markdown",
   "metadata": {},
   "source": [
    "### Helper data structures ###"
   ]
  },
  {
   "cell_type": "code",
   "execution_count": 104,
   "metadata": {},
   "outputs": [],
   "source": [
    "classes = {}\n",
    "for i,p in phones.items():\n",
    "    classes[p] = i\n",
    "\n",
    "features = {}\n",
    "for feats in phones_to_features.values():\n",
    "    for feat in feats:\n",
    "        if feat not in features.keys():\n",
    "            features[feat] = len(features.keys())\n",
    "\n",
    "phonetype_counts = { 'consonant' : {}, 'vowel' : {}, 'nonspeech': {} }\n",
    "phone_stats = np.zeros([len(phones), len(features)])\n",
    "\n",
    "mean_num_features_per_phone = 0\n",
    "for p,feats in phones_to_features.items():\n",
    "    if p in classes.keys():\n",
    "        if 'vowel' in feats:\n",
    "            ptype = 'vowel'\n",
    "        elif 'consonant' in feats:\n",
    "            ptype = 'consonant'\n",
    "        else:\n",
    "            ptype = 'nonspeech'\n",
    "        for feat in feats:\n",
    "            mean_num_features_per_phone += 1\n",
    "            phonetype_counts[ptype][feat] = 1\n",
    "            phone_stats[classes[p],features[feat]] = 1\n",
    "        \n",
    "mean_num_features_per_phone /= len(phones)"
   ]
  },
  {
   "cell_type": "markdown",
   "metadata": {},
   "source": [
    "### Phone Clustering Dendogram ###"
   ]
  },
  {
   "cell_type": "code",
   "execution_count": 105,
   "metadata": {},
   "outputs": [
    {
     "data": {
      "image/png": "[encoded data removed]",
      "text/plain": [
       "<Figure size 1440x360 with 1 Axes>"
      ]
     },
     "metadata": {},
     "output_type": "display_data"
    }
   ],
   "source": [
    "from scipy.cluster.hierarchy import dendrogram\n",
    "from sklearn.cluster import AgglomerativeClustering\n",
    "\n",
    "def plot_dendrogram(model, **kwargs):\n",
    "    # Children of hierarchical clustering\n",
    "    children = model.children_\n",
    "    \n",
    "    # Distances between each pair of children\n",
    "    # Since we don't have this information, we can use a uniform one for plotting\n",
    "    distance = np.arange(children.shape[0])\n",
    "    \n",
    "    # The number of observations contained in each cluster level\n",
    "    no_of_observations = np.arange(2, children.shape[0]+2)\n",
    "    \n",
    "    # Create linkage matrix and then plot the dendrogram\n",
    "    linkage_matrix = np.column_stack([children, distance, no_of_observations]).astype(float)\n",
    "    \n",
    "    # Plot the corresponding dendrogram\n",
    "    dendrogram(linkage_matrix, **kwargs)\n",
    "    \n",
    "clustering = AgglomerativeClustering(n_clusters=len(phones))\n",
    "clustering.fit(phone_stats)\n",
    "\n",
    "\n",
    "plt.rcParams['figure.figsize'] = [20, 5]\n",
    "plt.title('Hierarchical Clustering Dendrogram')\n",
    "plot_dendrogram(clustering, labels=[ u''+i for i in phones.values()], leaf_font_size=10)\n",
    "plt.show()\n"
   ]
  },
  {
   "cell_type": "markdown",
   "metadata": {},
   "source": [
    "### Initial phone distances ###\n",
    "\n",
    "And also a matrix for phone differences"
   ]
  },
  {
   "cell_type": "code",
   "execution_count": 106,
   "metadata": {},
   "outputs": [],
   "source": [
    "phone_distances = np.zeros( [len(phones),len(phones)])\n",
    "\n",
    "for i in range(len(phones)):\n",
    "    for j in range(len(phones)):\n",
    "        if i == j:\n",
    "            continue\n",
    "        if i > j:\n",
    "            continue\n",
    "        p1 = phones_to_features[phones[i]]\n",
    "        p2 = phones_to_features[phones[j]]\n",
    "        if ('vowel' in p1 and 'vowel') in p2 or ('consonant' in p1 and 'consonant' in p2):\n",
    "            d = 0\n",
    "            for a in p1:\n",
    "                if a not in p2:\n",
    "                    d += 1\n",
    "            for a in p2:\n",
    "                if a not in p1:\n",
    "                    d += 1\n",
    "            if 'consonant' in p1:\n",
    "                dist = (d)/len(phonetype_counts['consonant'])\n",
    "            else:\n",
    "                dist = (d)/len(phonetype_counts['vowel'])\n",
    "        else:\n",
    "            dist = 1\n",
    "        phone_distances [i][j] = dist\n",
    "        phone_distances [j][i] = dist\n",
    "        \n",
    "phone_differences =  np.zeros( [len(phones),len(phones), len(features) + 1 ] )\n",
    "phone_feat_vectors = np.zeros( [len(phones), len(features)] )\n",
    "\n",
    "for i in range(len(phones)):\n",
    "    p1 = phones_to_features[phones[i]]\n",
    "    v1 = np.zeros([len(features) + 1])\n",
    "    for feat in p1:\n",
    "        v1[features[feat]] += 1 \n",
    "    phone_feat_vectors[i,:] = v1[:-1]\n",
    "    for j in range(len(phones)):\n",
    "        if i >= j:\n",
    "            continue\n",
    "        p2 = phones_to_features[phones[j]]\n",
    "        v2 = np.zeros([len(features) + 1])\n",
    "        if ('vowel' in p1 and 'vowel') in p2 or ('consonant' in p1 and 'consonant' in p2):\n",
    "            for feat in p2:\n",
    "                v2[features[feat]] += 1\n",
    "            diffv = np.logical_xor(v1,v2)\n",
    "        else:\n",
    "            diffv = np.zeros( [len(features) + 1] )\n",
    "            diffv[-1] = 1\n",
    "        phone_differences[i,j,:] = diffv\n",
    "        phone_differences[j,i,:] = diffv"
   ]
  },
  {
   "cell_type": "markdown",
   "metadata": {},
   "source": [
    "### Initial costvectors ###"
   ]
  },
  {
   "cell_type": "code",
   "execution_count": 107,
   "metadata": {},
   "outputs": [],
   "source": [
    "sub_costvector =  np.zeros( [len(features) + 1] )\n",
    "for ptype in ['consonant', 'vowel']:\n",
    "    for k in phonetype_counts[ptype].keys():\n",
    "        sub_costvector[features[k]] = 1/len(phonetype_counts[ptype])\n",
    "\n",
    "sub_costvector[-1] = 1    \n",
    "ins_costvector = np.ones([len(features)]) / mean_num_features_per_phone\n",
    "del_costvector = np.ones([len(features)]) / mean_num_features_per_phone\n",
    "\n",
    "\n",
    "sub_costmatrix = phone_differences.dot(sub_costvector)\n",
    "ins_costmatrix = phone_feat_vectors.dot(ins_costvector)\n",
    "del_costmatrix = phone_feat_vectors.dot(del_costvector)"
   ]
  },
  {
   "cell_type": "markdown",
   "metadata": {},
   "source": [
    "### Split the data and create observation matrices with initial best paths ###\n",
    "\n",
    "- Take approx 10% of train data to be our devel set\n",
    "- We'll be using the training data twice: Once with the correct reference and score, and another time with a random reference and a rejection score\n",
    "- The little progress indicator is from https://stackoverflow.com/a/41457700"
   ]
  },
  {
   "cell_type": "code",
   "execution_count": 108,
   "metadata": {},
   "outputs": [
    {
     "name": "stdout",
     "output_type": "stream",
     "text": [
      "Refmap size: 29882\n",
      "Train items: 24236\n",
      " Test items: 4313\n",
      "Devel items: 1333\n",
      "Devel items intersect train items 0\n",
      " Test items intersect train items 0\n"
     ]
    }
   ],
   "source": [
    "train_items = np.zeros(len(speakers), dtype=np.bool)\n",
    "devel_items = np.zeros(len(speakers), dtype=np.bool)\n",
    "test_items = np.zeros(len(speakers), dtype=np.bool)\n",
    "\n",
    "for i in range(len(speakers)):\n",
    "    if speakers[i] in test_speakers:\n",
    "        test_items[i] = True\n",
    "    elif i% 10 == 0:\n",
    "        devel_items[i] = True\n",
    "    else:\n",
    "        train_items[i] = True\n",
    "\n",
    "        \n",
    "refmap = np.arange(0, len(speakers)+train_items.sum())\n",
    "refmap[len(speakers):] = np.random.permutation(np.where(train_items==True)[0])\n",
    "\n",
    "# Duplicate training data:\n",
    "devel_items = np.hstack([devel_items, np.zeros(train_items.sum()).astype(np.bool)])\n",
    "test_items = np.hstack([test_items, np.zeros(train_items.sum()).astype(np.bool)])\n",
    "train_items = np.hstack([train_items, np.ones(train_items.sum()).astype(np.bool)])\n",
    "\n",
    "\n",
    "\n",
    "\n",
    "nO_sub = np.zeros( [len(refmap), len(hypotheses[0]), sub_costvector.shape[0]] , dtype=np.int8 )\n",
    "nO_del = np.zeros( [len(refmap), len(hypotheses[0]), del_costvector.shape[0]] , dtype=np.int8 )\n",
    "nO_ins = np.zeros( [len(refmap), len(hypotheses[0]), ins_costvector.shape[0]] , dtype=np.int8 )\n",
    "\n",
    "least_err_indices =  np.zeros( len(refmap), dtype=np.int8 )\n",
    "ref_lengths = np.zeros( len(refmap), dtype=np.int8 )\n",
    "perfects = -np.ones( len(refmap), dtype=np.int8 )\n",
    "\n",
    "print(\"Refmap size:\", len(refmap))\n",
    "\n",
    "print(\"Train items:\", train_items.sum())\n",
    "print(\" Test items:\", test_items.sum())\n",
    "print(\"Devel items:\", devel_items.sum())\n",
    "\n",
    "print(\"Devel items intersect train items\",len(np.intersect1d(np.where(devel_items==True)[0],np.where(train_items==True)[0])))\n",
    "print(\" Test items intersect train items\",len(np.intersect1d(np.where(test_items==True)[0],np.where(train_items==True)[0])))\n"
   ]
  },
  {
   "cell_type": "markdown",
   "metadata": {},
   "source": []
  },
  {
   "cell_type": "code",
   "execution_count": 109,
   "metadata": {},
   "outputs": [
    {
     "name": "stdout",
     "output_type": "stream",
     "text": [
      "Ref \t Path \t Error \t Reference                  Best hypothesis\n",
      "0 \t 9 \t 0.54 \t lʌv                   ==>  iloːva\n",
      "1 \t 17 \t 0.06 \t ðɪs                   ==>  ðiːs\n",
      "2 \t 30 \t 0.22 \t kwaɪət                ==>  haɪət\n",
      "3 \t 43 \t 0.23 \t fiːɫd                 ==>  fɹd\n",
      "4 \t 10 \t 0.25 \t maθs                  ==>  nts\n",
      "5 \t 25 \t 0.25 \t bɔɪ                   ==>  hu\n",
      "6 \t 26 \t 0.41 \t kʰeɪk                 ==>  pk\n",
      "7 \t 15 \t 0.04 \t ɹɪvəɹ                 ==>  ɹɪvəs\n",
      "8 \t 0 \t 0.00 \t ləʊ                   ==>  ləʊ\n",
      "9 \t 23 \t 0.00 \t meɪk                  ==>  meɪk\n",
      "10 \t 17 \t 0.00 \t ʃiːp                  ==>  ʃiːp\n",
      "11 \t 23 \t 0.34 \t θaŋkjuː               ==>  lantsiːz\n",
      "12 \t 48 \t 0.24 \t wɛɫdʌn                ==>  ɹngɒn\n",
      "13 \t 35 \t 0.38 \t jʊəɹəp                ==>  reulu\n",
      "14 \t 25 \t 0.28 \t θaŋkjuː               ==>  ɪksju\n",
      "15 \t 40 \t 0.32 \t bʊk                   ==>  lk\n",
      "16 \t 24 \t 0.22 \t θɪŋ                   ==>  sɪŋə\n",
      "17 \t 31 \t 0.04 \t kʰaɹət                ==>  kʰadətʃ\n",
      "18 \t 9 \t 0.18 \t ʃəʊɫdəɹ               ==>  səʊɫda\n",
      "19 \t 42 \t 0.11 \t ðɪs                   ==>  sɪz\n",
      "\n",
      "This is pretty slow - No multi-threading, no Cython libraries etc.\n",
      "So let's use a progress bar to check how we are doing in processing 29882 samples.\n"
     ]
    },
    {
     "data": {
      "application/vnd.jupyter.widget-view+json": {
       "model_id": "0c032d643ed345aebec334d96e7dfee9",
       "version_major": 2,
       "version_minor": 0
      },
      "text/plain": [
       "IntProgress(value=20, max=29882)"
      ]
     },
     "metadata": {},
     "output_type": "display_data"
    },
    {
     "name": "stdout",
     "output_type": "stream",
     "text": [
      "Done! Yey!\n"
     ]
    }
   ],
   "source": [
    "\n",
    "\n",
    "for j in range(len(refmap)):\n",
    "    refseq = references[refmap[j]]\n",
    "    besterr = np.inf\n",
    "    bestindex = 0\n",
    "    ref_lengths[j] = len(refseq)\n",
    "    if len(refseq)>0:\n",
    "        for i in range(len(hypotheses[0])):\n",
    "            hypseq = hypotheses[ j % len(hypotheses) ][i].tolist()\n",
    "            nO_sub[j,i,:] = 0\n",
    "            nO_del[j,i,:] = 0\n",
    "            nO_ins[j,i,:] = 0\n",
    "            if len(hypseq)>0:\n",
    "                #print( ''.join([phones[k] for k in hypseq ]) )\n",
    "                cost,eops = levenshtein_edit_ops(refseq, hypseq,\n",
    "                                                 substitute_costs=sub_costmatrix,\n",
    "                                                 insert_costs=ins_costmatrix,\n",
    "                                                 delete_costs=del_costmatrix)\n",
    "                for op in eops:\n",
    "                    #print(op)\n",
    "                    if op[0] == 's':\n",
    "                        nO_sub[j,i,:] += phone_differences[op[1],op[2],:].astype(np.int8)\n",
    "                    elif op[0] == 'd':\n",
    "                        nO_del[j,i,:] += phone_feat_vectors[op[1],:].astype(np.int8)\n",
    "                    elif op[0] == 'i':\n",
    "                        nO_ins[j,i,:] += phone_feat_vectors[op[1],:].astype(np.int8)                                            \n",
    "                cost = cost/len(refseq)\n",
    "                if cost < besterr:\n",
    "                    bestindex = i\n",
    "                    besterr = cost\n",
    "                    besthyp = hypseq\n",
    "                    if len(eops) == 0:\n",
    "                        perfects[j] = bestindex\n",
    "            else:\n",
    "                for r in refseq:\n",
    "                    nO_ins[j,i,:] += phone_feat_vectors[r,:].astype(np.int8)    \n",
    "        if j == 0:\n",
    "            print(\"Ref\",'\\t', \"Path\", \"\\t\", \"Error\", '\\t', \"Reference\".ljust(20), '     ', \"Best hypothesis\" )\n",
    "        if j < 20:\n",
    "            print ( j, '\\t', bestindex,'\\t',\"%0.2f\"%besterr,'\\t',''.join([phones[k] for k in refseq ]).ljust(20),' ==> ',''.join([phones[k] for k in besthyp ]))\n",
    "        elif j == 20:\n",
    "            print(\"\")\n",
    "            print(\"This is pretty slow - No multi-threading, no Cython libraries etc.\")\n",
    "            print(\"So let's use a progress bar to check how we are doing in processing %i samples.\" % len(refmap))\n",
    "            f = IntProgress(min=0, max=len(refmap)) # instantiate the bar\n",
    "            f.value = 20\n",
    "            display(f) # display the bar\n",
    "        else:\n",
    "            f.value += 1\n",
    "        least_err_indices[j] = bestindex\n",
    "\n",
    "print(\"Done! Yey!\")"
   ]
  },
  {
   "cell_type": "markdown",
   "metadata": {},
   "source": [
    "### Scores ###"
   ]
  },
  {
   "cell_type": "code",
   "execution_count": 110,
   "metadata": {},
   "outputs": [],
   "source": [
    "scores = scores[:len(speakers)]\n",
    "inv_scores = np.zeros(len(refmap))\n",
    "inv_scores[:len(scores)] = (100-scores)/100\n",
    "inv_scores[len(scores):] = 1.01"
   ]
  },
  {
   "cell_type": "markdown",
   "metadata": {},
   "source": [
    "### Optimisation ###"
   ]
  },
  {
   "cell_type": "code",
   "execution_count": 111,
   "metadata": {},
   "outputs": [],
   "source": [
    "O_sub = np.zeros( [len(refmap), sub_costvector.shape[0]] , dtype=np.int8 )\n",
    "O_ins = np.zeros( [len(refmap), ins_costvector.shape[0]] , dtype=np.int8 )\n",
    "O_del = np.zeros( [len(refmap), del_costvector.shape[0]] , dtype=np.int8 )\n",
    "\n",
    "sub_indices=np.arange(0, len(sub_costvector), dtype=int)\n",
    "ins_indices=np.arange(max(sub_indices)+1, max(sub_indices)+1+len(ins_costvector), dtype=int)\n",
    "del_indices=np.arange(max(ins_indices)+1, max(ins_indices)+1+len(del_costvector), dtype=int)\n",
    "warping_index = np.max(del_indices)+1\n",
    "length_compensation_index = np.max(warping_index)+1\n",
    "\n",
    "x0 = np.zeros([length_compensation_index+1])\n",
    "x0[sub_indices] = sub_costvector\n",
    "x0[ins_indices] = ins_costvector\n",
    "x0[del_indices] = del_costvector\n",
    "x0[warping_index] = 1\n",
    "x0[length_compensation_index] = 1\n",
    "\n",
    "current_train_items = train_items\n",
    "\n",
    "def tanh(x,a, scale=1.01):\n",
    "    return scale * (np.tanh(a*x))\n",
    "\n",
    "def get_error_rates(hypx, items):\n",
    "    return O_sub[items].dot(hypx[sub_indices]) + O_ins[items].dot(hypx[ins_indices]) + O_del[items].dot(hypx[del_indices])\n",
    "\n",
    "def do_computation(hypx, items):\n",
    "    hyp_scores = get_error_rates(hypx, items)\n",
    "    hyp_scores /=  (ref_lengths[items] ** hypx[length_compensation_index])\n",
    "    hyp_scores = tanh(hyp_scores, hypx[warping_index])\n",
    "    return hyp_scores\n",
    "\n",
    "def costfunction(hypx):    \n",
    "    hyp_scores = do_computation(hypx, current_train_items)\n",
    "    # Normal least squares:\n",
    "    # np.mean( (hyp_scores - inv_scores[current_train_items])**2)\n",
    "    # Cauchy norm to limit outlier influence:\n",
    "    return np.mean( (np.log(1.01 + np.abs(hyp_scores - inv_scores[current_train_items])))**2)\n",
    "\n",
    "def get_scores(hypx, items):\n",
    "    return 100-(do_computation(hypx, items)*100)\n",
    "\n",
    "\n",
    "def compute_Os(hypx, nbest_mult):\n",
    "    for i in range(len(refmap)):\n",
    "        num_nbest = np.clip( nbest_mult * ref_lengths[i], 1, len(hypotheses[ i % len(speakers) ]))\n",
    "        least_err_indices[i] = np.argmin( nO_sub[i,:num_nbest,:].dot(hypx[sub_indices]) + \\\n",
    "                                          nO_ins[i,:num_nbest,:].dot(hypx[ins_indices]) + \\\n",
    "                                          nO_del[i,:num_nbest,:].dot(hypx[del_indices]) )\n",
    "        O_sub[i,:] = nO_sub [i,least_err_indices[i],:]\n",
    "        O_ins[i,:] = nO_ins [i,least_err_indices[i],:]\n",
    "        O_del[i,:] = nO_del [i,least_err_indices[i],:]\n",
    "        if train_items[i] and (O_sub[i,:].sum() > 0 or O_del[i,:].sum() == 0):\n",
    "            current_train_items[i] = True\n",
    "        else:\n",
    "            current_train_items[i] = False\n"
   ]
  },
  {
   "cell_type": "code",
   "execution_count": null,
   "metadata": {},
   "outputs": [],
   "source": []
  },
  {
   "cell_type": "markdown",
   "metadata": {},
   "source": [
    "# Data-Driven Phoneme Weighted Levenshtein Distance #"
   ]
  },
  {
   "cell_type": "code",
   "execution_count": 112,
   "metadata": {},
   "outputs": [
    {
     "name": "stdout",
     "output_type": "stream",
     "text": [
      "Search for optimal parameters with different N-best list lengths\n"
     ]
    },
    {
     "data": {
      "application/vnd.jupyter.widget-view+json": {
       "model_id": "a10046dd9dfc4a0abe68494e82e44c62",
       "version_major": 2,
       "version_minor": 0
      },
      "text/plain": [
       "IntProgress(value=0, max=50)"
      ]
     },
     "metadata": {},
     "output_type": "display_data"
    },
    {
     "name": "stdout",
     "output_type": "stream",
     "text": [
      "\n",
      "dd-wpld best score: 0.45792060118623173\n",
      "dd-wpld best keys: [10, 2]\n"
     ]
    }
   ],
   "source": [
    "bounds=[[0.02,1.5]]*(len(x0)) \n",
    "bounds[sub_indices[-1]] = [1.0,5.0] # change between vowel and consonant\n",
    "#bounds[insert_indices[-1]] = [1.5,5] # change between vowel and consonant\n",
    "#bounds[delete_indices[-1]] = [1.5,5] # change between vowel and consonant\n",
    "\n",
    "bounds[warping_index] = [0.05,5] # warping index\n",
    "bounds[length_compensation_index] = [0.1,3] # length compensation index\n",
    "\n",
    "dd_wpld_xs = {}\n",
    "dd_wpld_dev_scores = {}\n",
    "\n",
    "nbest_multipliers = [0, 5, 10, 15, 50]\n",
    "num_iter_rounds = 10\n",
    "f = IntProgress(min=0, max=len(nbest_multipliers) * num_iter_rounds) # instantiate the bar\n",
    "f.value = 0\n",
    "print(\"Search for optimal parameters with different N-best list lengths\")\n",
    "display(f) # display the bar\n",
    "\n",
    "for n in range(len(nbest_multipliers)):\n",
    "    nbest_multiplier = nbest_multipliers[n]\n",
    "    current_train_items = np.copy((train_items).astype(np.bool))\n",
    "    x1 = 0.4*np.random.rand( x0.shape[0] ) + 0.1\n",
    "    x2 = {'success' : False}\n",
    "    dd_wpld_xs[nbest_multiplier] = {}\n",
    "    dd_wpld_dev_scores[nbest_multiplier] = {} \n",
    "    #print(\"N-best hypotheses: %iL\" % nbest_multiplier)\n",
    "    for iterround in range(num_iter_rounds):\n",
    "        f.value += 1        \n",
    "        compute_Os(x1, nbest_multiplier)\n",
    "        #print(\"             Optimisation round %i\" % (iterround))\n",
    "        x2 = minimize(costfunction, x1, bounds=bounds, options={'disp': False, 'maxiter': 19})\n",
    "        x1 = x2['x']\n",
    "        dd_wpld_xs[nbest_multiplier][iterround] = x1\n",
    "        dd_wpld_hyp = get_scores(x1, devel_items)\n",
    "        dd_wpld_dev_scores[nbest_multiplier][iterround] = np.corrcoef(scores[devel_items[:len(scores)]], dd_wpld_hyp)[0,1]\n",
    "        #print(\"                         Score on dev set: %0.4f\" % dd_wpld_dev_scores[nbest_multiplier][iterround])\n",
    "        if x2['success']:\n",
    "            break\n",
    "        if iterround > 1:\n",
    "            if dd_wpld_dev_scores[nbest_multiplier][iterround] < dd_wpld_dev_scores[nbest_multiplier][iterround-1]:\n",
    "                #print(\"It's not getting better so breaking.\")\n",
    "                break\n",
    "    f.value = num_iter_rounds * (n+1)\n",
    "#print(\"Results on devel set:\")\n",
    "#pprint(dd_wpld_dev_scores)\n",
    "          \n",
    "          \n",
    "print(\"\")\n",
    "ddwpld_best_score = -np.inf\n",
    "ddwpld_best_system = None\n",
    "best_keys = None\n",
    "for k in dd_wpld_dev_scores.keys():\n",
    "    for i in dd_wpld_dev_scores[k].keys():\n",
    "        if dd_wpld_dev_scores[k][i] > ddwpld_best_score:\n",
    "            ddwpld_best_score = dd_wpld_dev_scores[k][i]            \n",
    "            ddwpld_best_system = dd_wpld_xs[k][i]\n",
    "            best_keys = [k,i]\n",
    "print(\"dd-wpld best score:\",ddwpld_best_score)\n",
    "print(\"dd-wpld best keys:\", best_keys)"
   ]
  },
  {
   "cell_type": "markdown",
   "metadata": {},
   "source": [
    "From the 5 runs, I got:\n",
    "\n",
    "* 0.51_ on n-best list of 10/reference phone and 3 iterations\n",
    "* 0.456 on full 51-best list and 7 iterations\n",
    "* 0.458 on n-best list of 10/reference phone and 2 iterations\n",
    "\n",
    "What did you get?"
   ]
  },
  {
   "cell_type": "markdown",
   "metadata": {},
   "source": [
    "# Basic Phoneme Weighted Levenshtein Distance #\n",
    "\n",
    "Here we take the phoneme weights as granted and optimise only the mapping parameters."
   ]
  },
  {
   "cell_type": "code",
   "execution_count": 113,
   "metadata": {},
   "outputs": [
    {
     "name": "stdout",
     "output_type": "stream",
     "text": [
      "Search for optimal parameters with different N-best list lengths\n"
     ]
    },
    {
     "data": {
      "application/vnd.jupyter.widget-view+json": {
       "model_id": "4be6738a978b42d78970e584ab907f23",
       "version_major": 2,
       "version_minor": 0
      },
      "text/plain": [
       "IntProgress(value=0, max=50)"
      ]
     },
     "metadata": {},
     "output_type": "display_data"
    },
    {
     "name": "stdout",
     "output_type": "stream",
     "text": [
      "Done! Yey!\n",
      "\n",
      "Base-pwld best score: 0.417294859589439\n",
      "Base-pwld best keys: [50, 0]\n"
     ]
    }
   ],
   "source": [
    "\n",
    "bounds=np.zeros([len(x0),2]) \n",
    "bounds[sub_indices,0] = sub_costvector\n",
    "bounds[sub_indices,1] = sub_costvector\n",
    "bounds[ins_indices,0] = ins_costvector\n",
    "bounds[ins_indices,1] = ins_costvector\n",
    "bounds[del_indices,0] = del_costvector\n",
    "bounds[del_indices,1] = del_costvector\n",
    "bounds[warping_index] = [0.05,15] # warping index\n",
    "bounds[length_compensation_index] = [0.1,3] # length compensation index\n",
    "\n",
    "base_wpld_xs = {}\n",
    "base_wpld_dev_scores = {}\n",
    "\n",
    "f = IntProgress(min=0, max=len(nbest_multipliers) * num_iter_rounds) # instantiate the bar\n",
    "f.value = 0\n",
    "print(\"Search for optimal parameters with different N-best list lengths\")\n",
    "display(f) # display the bar\n",
    "\n",
    "\n",
    "for n in range(len(nbest_multipliers)):\n",
    "    nbest_multiplier = nbest_multipliers[n]\n",
    "    current_train_items = np.copy((train_items+1).astype(np.bool))\n",
    "    x1 = 0.4*np.random.rand( x0.shape[0] ) + 0.1\n",
    "    x2 = {'success' : False}\n",
    "    base_wpld_xs[nbest_multiplier] = {}\n",
    "    base_wpld_dev_scores[nbest_multiplier] = {} \n",
    "    #print(\"N-best hypotheses: %iL\" % nbest_multiplier) \n",
    "    for iterround in range(10):\n",
    "        f.value += 1         \n",
    "        compute_Os(x0, nbest_multiplier)\n",
    "        #print(\"             Optimisation round %i\" % (iterround))\n",
    "        x2 = minimize(costfunction, x1, bounds=bounds, options={'disp': True, 'maxiter': 29})\n",
    "        x1 = x2['x']\n",
    "        base_wpld_xs[nbest_multiplier][iterround] = x1\n",
    "        base_wpld_hyp = get_scores(x1, devel_items)\n",
    "        base_wpld_dev_scores[nbest_multiplier][iterround] = np.corrcoef(scores[devel_items[:len(scores)]], base_wpld_hyp)[0,1]\n",
    "        #print(\"                         Score on dev set: %0.4f\" % base_wpld_dev_scores[nbest_multiplier][iterround])\n",
    "        if x2['success']:\n",
    "            break\n",
    "        if iterround > 1:\n",
    "            if base_wpld_dev_scores[nbest_multiplier][iterround] < base_wpld_dev_scores[nbest_multiplier][iterround-1]:\n",
    "                #print(\"It's not getting better so breaking.\")\n",
    "                break\n",
    "    f.value = num_iter_rounds * (n+1)\n",
    "                \n",
    "#print(\"Results on devel set:\")\n",
    "#pprint(base_wpld_dev_scores)\n",
    "          \n",
    "print(\"Done! Yey!\")                    \n",
    "          \n",
    "print(\"\")\n",
    "basewpld_best_score = -np.inf\n",
    "basewpld_best_system = None\n",
    "basewpld_best_keys = None\n",
    "for k in base_wpld_dev_scores.keys():\n",
    "    for i in base_wpld_dev_scores[k].keys():\n",
    "        if base_wpld_dev_scores[k][i] > basewpld_best_score:\n",
    "            basewpld_best_score = base_wpld_dev_scores[k][i]            \n",
    "            basewpld_best_system = base_wpld_xs[k][i]\n",
    "            basewpld_best_keys = [k,i]\n",
    "print(\"Base-pwld best score:\",basewpld_best_score)\n",
    "print(\"Base-pwld best keys:\", basewpld_best_keys)"
   ]
  },
  {
   "cell_type": "markdown",
   "metadata": {},
   "source": [
    "On the 5 runs, I got the best scores \n",
    "\n",
    "* 0.417, using the whole 51-best list.\n",
    "* 0.417, using the whole 51-best list.\n",
    "* 0.417, using the whole 51-best list.\n",
    "\n"
   ]
  },
  {
   "cell_type": "markdown",
   "metadata": {},
   "source": [
    "# Regression with Support Vector Machines and Random Forests #"
   ]
  },
  {
   "cell_type": "code",
   "execution_count": 114,
   "metadata": {},
   "outputs": [
    {
     "name": "stdout",
     "output_type": "stream",
     "text": [
      "Grid search for optimal parameters with different N-best list lengths and C and Epsilon values\n"
     ]
    },
    {
     "data": {
      "application/vnd.jupyter.widget-view+json": {
       "model_id": "5d0aa4ab15a74be085f52a361c2ff564",
       "version_major": 2,
       "version_minor": 0
      },
      "text/plain": [
       "IntProgress(value=0, max=60)"
      ]
     },
     "metadata": {},
     "output_type": "display_data"
    },
    {
     "name": "stderr",
     "output_type": "stream",
     "text": [
      "/l/rkarhila/scratch/conda-envs/tf.1.13.1_nogpu/lib/python3.6/site-packages/sklearn/svm/base.py:218: ConvergenceWarning: Solver terminated early (max_iter=10000).  Consider pre-processing your data with StandardScaler or MinMaxScaler.\n",
      "  % self.max_iter, ConvergenceWarning)\n"
     ]
    },
    {
     "name": "stdout",
     "output_type": "stream",
     "text": [
      "Done, yey!\n"
     ]
    }
   ],
   "source": [
    "\n",
    "svm_xs = {}\n",
    "svm_dev_scores = {}\n",
    "max_iter = 10000\n",
    "\n",
    "\n",
    "cs =  [1,  100, 400]\n",
    "epsilons = [0.01, 0.1, 0.2, 0.5]\n",
    "\n",
    "f = IntProgress(min=0, max=len(nbest_multipliers) * len(cs) * len(epsilons)) # instantiate the bar\n",
    "f.value = 0\n",
    "print(\"Grid search for optimal parameters with different N-best list lengths and C and Epsilon values\")\n",
    "display(f) # display the bar\n",
    "\n",
    "for nbest_multiplier in [0, 5, 10, 15, 50]:\n",
    "    compute_Os(x0, nbest_multiplier)\n",
    "    parameterisation_for_svm = np.hstack([ref_lengths.reshape([-1,1]) ,O_sub, O_ins, O_del])\n",
    "    svm_xs[nbest_multiplier] = {}\n",
    "    svm_dev_scores[nbest_multiplier] = {}    \n",
    "    for c in cs:\n",
    "        svm_xs[nbest_multiplier][c] = {}\n",
    "        svm_dev_scores[nbest_multiplier][c] = {}\n",
    "        for epsilon in epsilons:\n",
    "            f.value += 1\n",
    "            #print(\"Training SVR with nbest_multiplier=%i C=%0.1f, epsilon=%0.3f\" % (nbest_multiplier,c, epsilon))\n",
    "            svm_xs[nbest_multiplier][c][epsilon] = SVR(epsilon=epsilon, C=c, kernel='rbf', degree=3, coef0=0.0, shrinking=True, tol=0.001, cache_size=200, verbose=False, max_iter = max_iter)\n",
    "            svm_xs[nbest_multiplier][c][epsilon].fit( parameterisation_for_svm[current_train_items,:], inv_scores[current_train_items])\n",
    "            svm_hyp = svm_xs[nbest_multiplier][c][epsilon].predict( parameterisation_for_svm[devel_items,:])\n",
    "            svm_dev_scores[nbest_multiplier][c][epsilon] = np.corrcoef(svm_hyp, inv_scores[devel_items])[0,1]\n",
    "            #print(\"Correlation with devel set: %0.3f\" % svm_dev_scores[nbest_multiplier][c][epsilon])\n",
    "print (\"Done, yey!\")"
   ]
  },
  {
   "cell_type": "code",
   "execution_count": 115,
   "metadata": {},
   "outputs": [
    {
     "name": "stdout",
     "output_type": "stream",
     "text": [
      "\n",
      "SVM best score: 0.4907249296868968\n",
      "SVM best keys: [10, 1, 0.2]\n"
     ]
    }
   ],
   "source": [
    "print(\"\")\n",
    "svm_best_score = -np.inf\n",
    "svm_best_system = None\n",
    "svm_best_keys = None\n",
    "for k in svm_dev_scores.keys():\n",
    "    for i in svm_dev_scores[k].keys():\n",
    "        for j in svm_dev_scores[k][i].keys():\n",
    "            if svm_dev_scores[k][i][j] > svm_best_score:\n",
    "                svm_best_score = svm_dev_scores[k][i][j]\n",
    "                svm_best_system = svm_xs[k][i][j]\n",
    "                svm_best_keys = [k,i,j]\n",
    "print(\"SVM best score:\",svm_best_score)\n",
    "print(\"SVM best keys:\", svm_best_keys)\n"
   ]
  },
  {
   "cell_type": "markdown",
   "metadata": {},
   "source": [
    "Wow, that took some time! Grid searching is certainly not optimal but you can't say I didn't put effort in these \"competing technologies\"...\n",
    "\n",
    "Anyway, numbers on the 5 runs: \n",
    "\n",
    "* 0.496 for n-best list of 5/reference phone, C 100 and epsilon 0.2 (!).\n",
    "* 0.489 for n-best list of 10/reference phone, C 1 and epsilon 0.2 (!).\n",
    "* 0.491 for n-best list of 10/reference phone, C 1 and epsilon 0.2 (!)."
   ]
  },
  {
   "cell_type": "code",
   "execution_count": 116,
   "metadata": {},
   "outputs": [
    {
     "name": "stdout",
     "output_type": "stream",
     "text": [
      "Grid search for optimal parameters with different N-best list lengths and estimator and min sample values\n"
     ]
    },
    {
     "data": {
      "application/vnd.jupyter.widget-view+json": {
       "model_id": "cde437828f61469998bb8f9e13a58580",
       "version_major": 2,
       "version_minor": 0
      },
      "text/plain": [
       "IntProgress(value=0, max=60)"
      ]
     },
     "metadata": {},
     "output_type": "display_data"
    },
    {
     "name": "stdout",
     "output_type": "stream",
     "text": [
      "Done, yey!\n"
     ]
    }
   ],
   "source": [
    "rf_xs = {}\n",
    "rf_dev_scores = {}\n",
    "\n",
    "f = IntProgress(min=0, max=len(nbest_multipliers) * len(cs) * len(epsilons)) # instantiate the bar\n",
    "f.value = 0\n",
    "print(\"Grid search for optimal parameters with different N-best list lengths and estimator and min sample values\")\n",
    "display(f) # display the bar\n",
    "n_ests = [20, 100,  400]\n",
    "min_sampleses = [1, 10, 20]\n",
    "\n",
    "for nbest_multiplier in nbest_multipliers:\n",
    "    compute_Os(x0, nbest_multiplier)\n",
    "    parameterisation_for_svm = np.hstack([ref_lengths.reshape([-1,1]) ,O_sub, O_ins, O_del])    \n",
    "    rf_xs[nbest_multiplier] = {}\n",
    "    rf_dev_scores[nbest_multiplier] = {}\n",
    "    for n_est in n_ests:\n",
    "        rf_xs[nbest_multiplier][n_est] = {}\n",
    "        rf_dev_scores[nbest_multiplier][n_est] = {}\n",
    "        for min_samples in min_sampleses:\n",
    "            f.value += 1\n",
    "            #print(\"Training random forest with nbest_multiplier=%i number of estimators=%i, min_sample_for_leaf=%i\" % (nbest_multiplier, n_est, min_samples))\n",
    "            #rf_xs[n_est][min_samples] = RandomForestRegressor(n_estimators=n_est, criterion='mse', max_depth=None, min_samples_split=2, min_samples_leaf=1, min_weight_fraction_leaf=0.0, max_features='auto', max_leaf_nodes=None, min_impurity_decrease=0.0, min_impurity_split=None, bootstrap=True, oob_score=False, n_jobs=None, random_state=None, verbose=1, warm_start=False)\n",
    "            rf_xs[nbest_multiplier][n_est][min_samples] = RandomForestRegressor(n_estimators=n_est, criterion='mse', min_samples_split=2, min_samples_leaf=min_samples, verbose=0)\n",
    "            rf_xs[nbest_multiplier][n_est][min_samples].fit( parameterisation_for_svm[current_train_items,:], inv_scores[current_train_items])\n",
    "            rf_hyp = rf_xs[nbest_multiplier][n_est][min_samples].predict( parameterisation_for_svm[devel_items,:])\n",
    "            rf_dev_scores[nbest_multiplier][n_est][min_samples] = np.corrcoef(rf_hyp, inv_scores[devel_items])[0,1]\n",
    "            #print(\"Correlation with devel set: %0.3f\" % rf_dev_scores[nbest_multiplier][c][epsilon])\n",
    "       \n",
    "print (\"Done, yey!\")"
   ]
  },
  {
   "cell_type": "code",
   "execution_count": 117,
   "metadata": {},
   "outputs": [
    {
     "name": "stdout",
     "output_type": "stream",
     "text": [
      "\n",
      "Random Forest best score: 0.5034383906578757\n",
      "Random Forest best keys: [50, 100, 10]\n"
     ]
    }
   ],
   "source": [
    "print(\"\")\n",
    "rf_best_score = -np.inf\n",
    "rf_best_system = None\n",
    "rf_best_keys = None\n",
    "for k in rf_dev_scores.keys():\n",
    "    for i in rf_dev_scores[k].keys():\n",
    "        for j in rf_dev_scores[k][i].keys():\n",
    "            if rf_dev_scores[k][i][j] > rf_best_score:\n",
    "                rf_best_score = rf_dev_scores[k][i][j]\n",
    "                rf_best_system = rf_xs[k][i][j]\n",
    "                rf_best_keys = [k,i,j]\n",
    "print(\"Random Forest best score:\",rf_best_score)\n",
    "print(\"Random Forest best keys:\", rf_best_keys)"
   ]
  },
  {
   "cell_type": "markdown",
   "metadata": {},
   "source": [
    "Whoa! \n",
    "\n",
    "I got \n",
    "\n",
    "* 0.494 with n-best list of 5/reference phone, 100 estimators and leaf minimum size of 1.\n",
    "* 0.502 with the full 51-best list, 400 estimators and minimun leaf size of 1\n",
    "* 0.503 with the full 51-best list, 100 estimators and minimun leaf size of 10"
   ]
  },
  {
   "cell_type": "markdown",
   "metadata": {},
   "source": [
    "# Comparison of systems #"
   ]
  },
  {
   "cell_type": "code",
   "execution_count": 118,
   "metadata": {},
   "outputs": [],
   "source": [
    "compute_Os(ddwpld_best_system, 10) #ddwpld_best_keys[0])\n",
    "dd_wpld_test_scores = do_computation(ddwpld_best_system, test_items )\n",
    "\n",
    "compute_Os(basewpld_best_system, basewpld_best_keys[0])\n",
    "base_wpld_test_scores = do_computation(basewpld_best_system, test_items )\n",
    "\n",
    "\n",
    "compute_Os(x0, svm_best_keys[0])\n",
    "parameterisation_for_svm = np.hstack([ref_lengths.reshape([-1,1]) ,O_sub, O_ins, O_del])\n",
    "svm_test_scores = svm_best_system.predict( parameterisation_for_svm[test_items,:])\n",
    "\n",
    "compute_Os(x0, rf_best_keys[0])\n",
    "parameterisation_for_svm = np.hstack([ref_lengths.reshape([-1,1]) ,O_sub, O_ins, O_del])\n",
    "rf_test_scores = rf_best_system.predict( parameterisation_for_svm[test_items,:])\n",
    "\n",
    "    \n"
   ]
  },
  {
   "cell_type": "code",
   "execution_count": 119,
   "metadata": {},
   "outputs": [],
   "source": [
    "ref_test_scores = inv_scores[test_items]\n",
    "\n",
    "correlations = { 'rf' : np.corrcoef(rf_test_scores, ref_test_scores)[0,1],\n",
    "                 'svm' : np.corrcoef(svm_test_scores, ref_test_scores)[0,1],\n",
    "                 'ddwlpd' : np.corrcoef(dd_wpld_test_scores, ref_test_scores)[0,1],\n",
    "                 'basewlpd' : np.corrcoef(base_wpld_test_scores, ref_test_scores)[0,1]}\n",
    "\n",
    "error_vecs = { 'svm': np.abs(svm_test_scores*100-ref_test_scores),\n",
    "                'rf': np.abs(rf_test_scores*100-ref_test_scores),\n",
    "                'ddwpld' : np.abs(dd_wpld_test_scores-ref_test_scores),\n",
    "                'basewlpd' : np.abs(base_wpld_test_scores - ref_test_scores) }\n",
    "\n",
    "mean_errors = { 'svm': np.mean(error_vecs['svm']),\n",
    "                'rf':  np.mean(error_vecs['rf']),\n",
    "                'ddwpld' : np.mean(error_vecs['ddwpld']),\n",
    "                'basewlpd' : np.mean(error_vecs['basewlpd']) }\n",
    "\n",
    "error_std = { 'svm': np.std(error_vecs['svm']),\n",
    "                'rf':  np.std(error_vecs['rf']),\n",
    "                'ddwpld' : np.std(error_vecs['ddwpld']),\n",
    "                'basewlpd' : np.std(error_vecs['basewlpd']) }\n",
    "\n",
    "\n",
    "outliers =  {'svm': np.where(error_vecs['svm']> mean_errors['svm']+2*error_std['svm'])[0],\n",
    "            'rf':  np.where(error_vecs['rf']> mean_errors['rf']+2*error_std['rf'])[0],\n",
    "            'ddwpld' : np.where(error_vecs['ddwpld']> mean_errors['ddwpld']+2*error_std['ddwpld'])[0],\n",
    "            'basewlpd' : np.where(error_vecs['basewlpd']> mean_errors['basewlpd']+2*error_std['basewlpd'])[0]}\n",
    "\n",
    "\n",
    "non_outliers_voted = np.where(np.bincount(np.hstack([outliers['svm'],outliers['rf'],outliers['ddwpld'],outliers['basewlpd']])) <= 1)[0]\n",
    "#non_outliers_voted = np.where(np.bincount(np.hstack([outliers['svm'],outliers['rf'],outliers['ddwpld'],outliers['basewpld']])) <= 0)[0]\n",
    "\n",
    "\n",
    "correlations_outliers_removed = {\n",
    "    'rf' :np.corrcoef(rf_test_scores[non_outliers_voted], ref_test_scores[non_outliers_voted]) [0,1],\n",
    "    'svm' : np.corrcoef(svm_test_scores[non_outliers_voted], ref_test_scores[non_outliers_voted]) [0,1],\n",
    "    'ddwlpd' : np.corrcoef(dd_wpld_test_scores[non_outliers_voted], ref_test_scores[non_outliers_voted]) [0,1],\n",
    "    'basewlpd' : np.corrcoef(base_wpld_test_scores[non_outliers_voted], ref_test_scores[non_outliers_voted]) [0,1],}\n",
    "\n"
   ]
  },
  {
   "cell_type": "code",
   "execution_count": 120,
   "metadata": {},
   "outputs": [
    {
     "name": "stdout",
     "output_type": "stream",
     "text": [
      "Correlations for all test data:\n",
      "rf              0.509\n",
      "svm             0.517\n",
      "ddwlpd          0.475\n",
      "basewlpd        0.426\n",
      "Correlations for test data where outliers are removed:\n",
      "rf              0.553\n",
      "svm             0.568\n",
      "ddwlpd          0.527\n",
      "basewlpd        0.476\n"
     ]
    }
   ],
   "source": [
    "print(\"Correlations for all test data:\")\n",
    "for k,v in correlations.items():\n",
    "    print(k.ljust(15),\"%0.3f\"%v)\n",
    "print(\"Correlations for test data where outliers are removed:\")\n",
    "for k,v in correlations_outliers_removed.items():\n",
    "    print(k.ljust(15),\"%0.3f\"%v)"
   ]
  },
  {
   "cell_type": "markdown",
   "metadata": {},
   "source": [
    "On the first run I got:\n",
    "    \n",
    "Correlations for all test data:\n",
    "\n",
    "* rf           0.496, 0.512, 0.509\n",
    "* svm           0.459, 0.521, 0.517\n",
    "* ddwlpd          0.478, 0.470, 0.475\n",
    "* basewlpd        0.426, 0.427, 0.425\n",
    "\n",
    "\n",
    "Correlations for test data where outliers are removed:\n",
    "\n",
    "* rf              0.537, 0.554, 0.553\n",
    "* svm             0.474, 0.570, 0.568\n",
    "* ddwlpd          0.547, 0.521, 0.527\n",
    "* basewlpd        0.469, 0.476, 0.476\n",
    "\n"
   ]
  },
  {
   "cell_type": "code",
   "execution_count": 121,
   "metadata": {},
   "outputs": [
    {
     "name": "stdout",
     "output_type": "stream",
     "text": [
      "4198\n",
      "4313\n"
     ]
    },
    {
     "data": {
      "text/plain": [
       "{'svm': 22.9864379350438,\n",
       " 'rf': 23.360209473501804,\n",
       " 'ddwpld': 0.21250628045270625,\n",
       " 'basewlpd': 0.2440076002961799}"
      ]
     },
     "execution_count": 121,
     "metadata": {},
     "output_type": "execute_result"
    }
   ],
   "source": [
    "print(len(non_outliers_voted))\n",
    "print(test_items.sum())\n",
    "error_std"
   ]
  },
  {
   "cell_type": "code",
   "execution_count": 122,
   "metadata": {},
   "outputs": [
    {
     "name": "stdout",
     "output_type": "stream",
     "text": [
      "Train items: 23440\n",
      " Test items: 4313\n",
      "Devel items: 1333\n",
      "Devel item intersect current train items 0\n",
      " Test item intersect current train items 0\n"
     ]
    }
   ],
   "source": [
    "print(\"Train items:\", current_train_items.sum())\n",
    "print(\" Test items:\", test_items.sum())\n",
    "print(\"Devel items:\", devel_items.sum())\n",
    "\n",
    "print(\"Devel item intersect current train items\",len(np.intersect1d(np.where(devel_items==True)[0],np.where(current_train_items==True)[0])))\n",
    "print(\" Test item intersect current train items\",len(np.intersect1d(np.where(test_items==True)[0],np.where(current_train_items==True)[0])))"
   ]
  },
  {
   "cell_type": "code",
   "execution_count": 123,
   "metadata": {},
   "outputs": [
    {
     "name": "stdout",
     "output_type": "stream",
     "text": [
      "Refmap size: 29882\n",
      "Train items: 24236\n",
      " Test items: 4313\n",
      "Devel items: 1333\n",
      "Devel items intersect train items 0\n",
      " Test items intersect train items 0\n",
      "Count of items in refmap: 17764\n",
      "Train items in refmap: 24236\n",
      " Test items in refmap: 4313\n",
      "Devel items in refmap: 1333\n"
     ]
    }
   ],
   "source": [
    "# Check once more that we have not messed up our data:\n",
    "\n",
    "print(\"Refmap size:\", len(refmap))\n",
    "\n",
    "print(\"Train items:\", train_items.sum())\n",
    "print(\" Test items:\", test_items.sum())\n",
    "print(\"Devel items:\", devel_items.sum())\n",
    "\n",
    "print(\"Devel items intersect train items\",len(np.intersect1d(np.where(devel_items==True)[0],np.where(train_items==True)[0])))\n",
    "print(\" Test items intersect train items\",len(np.intersect1d(np.where(test_items==True)[0],np.where(train_items==True)[0])))\n",
    "\n",
    "bins = np.bincount(refmap)\n",
    "print(\"Count of items in refmap:\", bins.shape[0])\n",
    "print(\"Train items in refmap:\", np.bincount(refmap[train_items]).sum())\n",
    "print(\" Test items in refmap:\", np.bincount(refmap[test_items]).sum())\n",
    "print(\"Devel items in refmap:\", np.bincount(refmap[devel_items]).sum())\n",
    "\n"
   ]
  },
  {
   "cell_type": "code",
   "execution_count": null,
   "metadata": {},
   "outputs": [],
   "source": []
  }
 ],
 "metadata": {
  "kernelspec": {
   "display_name": "Python 3",
   "language": "python",
   "name": "python3"
  },
  "language_info": {
   "codemirror_mode": {
    "name": "ipython",
    "version": 3
   },
   "file_extension": ".py",
   "mimetype": "text/x-python",
   "name": "python",
   "nbconvert_exporter": "python",
   "pygments_lexer": "ipython3",
   "version": "3.6.5"
  }
 },
 "nbformat": 4,
 "nbformat_minor": 2
}
